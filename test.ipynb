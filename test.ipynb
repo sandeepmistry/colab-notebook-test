{
  "nbformat": 4,
  "nbformat_minor": 0,
  "metadata": {
    "colab": {
      "provenance": [],
      "collapsed_sections": []
    },
    "kernelspec": {
      "name": "python3",
      "display_name": "Python 3"
    },
    "language_info": {
      "name": "python"
    }
  },
  "cells": [
    {
      "cell_type": "code",
      "execution_count": 1,
      "metadata": {
        "id": "IkGYoPaia5mO"
      },
      "outputs": [],
      "source": [
        "import numpy\n",
        "from PIL import Image\n",
        "\n",
        "imarray = numpy.random.rand(100,100,3) * 255\n",
        "im = Image.fromarray(imarray.astype('uint8')).convert('RGBA')\n",
        "im.save('random.png')"
      ]
    },
    {
      "cell_type": "code",
      "source": [
        "!mkdir -p images\n",
        "!mv random.png images"
      ],
      "metadata": {
        "id": "kWtfg2zacIcy"
      },
      "execution_count": 2,
      "outputs": []
    },
    {
      "cell_type": "markdown",
      "source": [
        "![random](images/random.png)"
      ],
      "metadata": {
        "id": "YAeD9SsAcOLX"
      }
    },
    {
      "cell_type": "markdown",
      "source": [
        "![](images/random.png)"
      ],
      "metadata": {
        "id": "SBydl5zOcEEz"
      }
    }
  ]
}